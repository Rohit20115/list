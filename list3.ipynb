{
 "cells": [
  {
   "cell_type": "code",
   "execution_count": 3,
   "id": "0dc580ca",
   "metadata": {},
   "outputs": [
    {
     "name": "stdout",
     "output_type": "stream",
     "text": [
      "enter the number : 12334\n",
      "[1, 2, 3, 3, 4]\n",
      "5\n"
     ]
    }
   ],
   "source": [
    "# take a number from the user and find the number of digit in it.\n",
    "\n",
    "n = int(input(\"enter the number : \"))\n",
    "\n",
    "digit_list = list(map(int,str(n)))\n",
    "\n",
    "print(digit_list)\n",
    "\n",
    "print(len(digit_list))"
   ]
  },
  {
   "cell_type": "code",
   "execution_count": null,
   "id": "db80aff4",
   "metadata": {},
   "outputs": [],
   "source": []
  }
 ],
 "metadata": {
  "kernelspec": {
   "display_name": "Python 3 (ipykernel)",
   "language": "python",
   "name": "python3"
  },
  "language_info": {
   "codemirror_mode": {
    "name": "ipython",
    "version": 3
   },
   "file_extension": ".py",
   "mimetype": "text/x-python",
   "name": "python",
   "nbconvert_exporter": "python",
   "pygments_lexer": "ipython3",
   "version": "3.11.4"
  }
 },
 "nbformat": 4,
 "nbformat_minor": 5
}
