{
 "cells": [
  {
   "cell_type": "code",
   "execution_count": 2,
   "id": "41ee12dd",
   "metadata": {},
   "outputs": [
    {
     "name": "stdout",
     "output_type": "stream",
     "text": [
      "[2, 3, 4, 5]\n",
      "[1, 2, 3, 4, 5, 9]\n"
     ]
    }
   ],
   "source": [
    "# write a program that can perform union and intersection on second given list.\n",
    "\n",
    "list1 = [1,2,3,4,5]\n",
    "list2 = [2,4,5,3,9]\n",
    "\n",
    "union = []\n",
    "intersection = []\n",
    "\n",
    "for i in list1:\n",
    "    if i in list2:\n",
    "        intersection.append(i)\n",
    "        \n",
    "print(intersection)\n",
    "\n",
    "for i in list1:\n",
    "    if i not in union:\n",
    "        union.append(i)\n",
    "        \n",
    "for i in list2:\n",
    "    if i not in union:\n",
    "        union.append(i)\n",
    "        \n",
    "print(union)"
   ]
  },
  {
   "cell_type": "code",
   "execution_count": null,
   "id": "622754bf",
   "metadata": {},
   "outputs": [],
   "source": []
  }
 ],
 "metadata": {
  "kernelspec": {
   "display_name": "Python 3 (ipykernel)",
   "language": "python",
   "name": "python3"
  },
  "language_info": {
   "codemirror_mode": {
    "name": "ipython",
    "version": 3
   },
   "file_extension": ".py",
   "mimetype": "text/x-python",
   "name": "python",
   "nbconvert_exporter": "python",
   "pygments_lexer": "ipython3",
   "version": "3.11.4"
  }
 },
 "nbformat": 4,
 "nbformat_minor": 5
}
