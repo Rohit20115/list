{
 "cells": [
  {
   "cell_type": "code",
   "execution_count": 3,
   "id": "d8504ae2",
   "metadata": {},
   "outputs": [
    {
     "name": "stdout",
     "output_type": "stream",
     "text": [
      "enter the number1234\n",
      "4321\n"
     ]
    }
   ],
   "source": [
    "#find the reverse of a number provided by the user (any number of digit)\n",
    "\n",
    "n = int(input(\"enter the number\"))\n",
    "\n",
    "digit_list = list(map(int,str(n)))\n",
    "\n",
    "digit_list = digit_list[::-1]\n",
    "\n",
    "num = int(\"\".join(map(str,digit_list)))\n",
    "\n",
    "print(num)"
   ]
  },
  {
   "cell_type": "code",
   "execution_count": null,
   "id": "54fb278e",
   "metadata": {},
   "outputs": [],
   "source": []
  }
 ],
 "metadata": {
  "kernelspec": {
   "display_name": "Python 3 (ipykernel)",
   "language": "python",
   "name": "python3"
  },
  "language_info": {
   "codemirror_mode": {
    "name": "ipython",
    "version": 3
   },
   "file_extension": ".py",
   "mimetype": "text/x-python",
   "name": "python",
   "nbconvert_exporter": "python",
   "pygments_lexer": "ipython3",
   "version": "3.11.4"
  }
 },
 "nbformat": 4,
 "nbformat_minor": 5
}
