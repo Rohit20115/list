{
 "cells": [
  {
   "cell_type": "code",
   "execution_count": null,
   "id": "dc9cc5a1",
   "metadata": {},
   "outputs": [],
   "source": [
    "# literate both list simultanuasly\n",
    "\n",
    "list1 = [10,20,30,40]\n",
    "\n",
    "list2 = [400,300,200,100]\n",
    "\n",
    "for x,y in "
   ]
  }
 ],
 "metadata": {
  "kernelspec": {
   "display_name": "Python 3 (ipykernel)",
   "language": "python",
   "name": "python3"
  },
  "language_info": {
   "codemirror_mode": {
    "name": "ipython",
    "version": 3
   },
   "file_extension": ".py",
   "mimetype": "text/x-python",
   "name": "python",
   "nbconvert_exporter": "python",
   "pygments_lexer": "ipython3",
   "version": "3.11.4"
  }
 },
 "nbformat": 4,
 "nbformat_minor": 5
}
