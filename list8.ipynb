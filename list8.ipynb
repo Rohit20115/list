{
 "cells": [
  {
   "cell_type": "code",
   "execution_count": 2,
   "id": "5047b33a",
   "metadata": {},
   "outputs": [
    {
     "name": "stdout",
     "output_type": "stream",
     "text": [
      "hello  dear \n",
      "hello  sir \n",
      " take  dear \n",
      " take  sir \n"
     ]
    }
   ],
   "source": [
    "# mix the two list in the following order.\n",
    "\n",
    "list1 = [\"hello \",\" take \"]\n",
    "\n",
    "list2 = [\" dear \",\" sir \"]\n",
    "\n",
    "for i in list1:\n",
    "    for j in list2:\n",
    "        print(i+j)\n",
    "        "
   ]
  },
  {
   "cell_type": "code",
   "execution_count": null,
   "id": "31b997e1",
   "metadata": {},
   "outputs": [],
   "source": []
  }
 ],
 "metadata": {
  "kernelspec": {
   "display_name": "Python 3 (ipykernel)",
   "language": "python",
   "name": "python3"
  },
  "language_info": {
   "codemirror_mode": {
    "name": "ipython",
    "version": 3
   },
   "file_extension": ".py",
   "mimetype": "text/x-python",
   "name": "python",
   "nbconvert_exporter": "python",
   "pygments_lexer": "ipython3",
   "version": "3.11.4"
  }
 },
 "nbformat": 4,
 "nbformat_minor": 5
}
